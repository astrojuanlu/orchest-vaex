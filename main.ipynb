{
 "cells": [
  {
   "cell_type": "markdown",
   "id": "deea54b8-afad-4786-b5f6-b84fdc5957fc",
   "metadata": {},
   "source": [
    "## First steps with Vaex"
   ]
  },
  {
   "cell_type": "code",
   "execution_count": 1,
   "id": "d9e4ac62-8761-488d-aceb-c9f05cb02305",
   "metadata": {
    "execution": {
     "iopub.execute_input": "2022-05-02T11:35:21.367252Z",
     "iopub.status.busy": "2022-05-02T11:35:21.366800Z",
     "iopub.status.idle": "2022-05-02T11:35:25.049240Z",
     "shell.execute_reply": "2022-05-02T11:35:25.048421Z",
     "shell.execute_reply.started": "2022-05-02T11:35:21.367169Z"
    },
    "tags": []
   },
   "outputs": [],
   "source": [
    "import vaex"
   ]
  },
  {
   "cell_type": "code",
   "execution_count": 2,
   "id": "4db2f029-7429-48db-9513-85440393a7e4",
   "metadata": {
    "execution": {
     "iopub.execute_input": "2022-05-02T11:35:25.058477Z",
     "iopub.status.busy": "2022-05-02T11:35:25.057261Z",
     "iopub.status.idle": "2022-05-02T11:35:25.782227Z",
     "shell.execute_reply": "2022-05-02T11:35:25.781416Z",
     "shell.execute_reply.started": "2022-05-02T11:35:25.058433Z"
    },
    "tags": []
   },
   "outputs": [
    {
     "name": "stdout",
     "output_type": "stream",
     "text": [
      "205M\t/data/airline-delays/2018.parquet\n"
     ]
    }
   ],
   "source": [
    "!du -sh /data/airline-delays/2018.parquet"
   ]
  },
  {
   "cell_type": "code",
   "execution_count": 3,
   "id": "5a74b771-31e3-43f0-a5c0-25446df310c9",
   "metadata": {
    "execution": {
     "iopub.execute_input": "2022-05-02T11:35:25.786302Z",
     "iopub.status.busy": "2022-05-02T11:35:25.785831Z",
     "iopub.status.idle": "2022-05-02T11:35:26.015312Z",
     "shell.execute_reply": "2022-05-02T11:35:26.014623Z",
     "shell.execute_reply.started": "2022-05-02T11:35:25.786271Z"
    },
    "tags": []
   },
   "outputs": [],
   "source": [
    "df_2018 = vaex.open(\"/data/airline-delays/2018.parquet\")"
   ]
  },
  {
   "cell_type": "code",
   "execution_count": 4,
   "id": "d7ca513c-8eae-42ac-a2a8-e83a7dea4fbc",
   "metadata": {
    "execution": {
     "iopub.execute_input": "2022-05-02T11:35:26.019696Z",
     "iopub.status.busy": "2022-05-02T11:35:26.019507Z",
     "iopub.status.idle": "2022-05-02T11:35:26.032106Z",
     "shell.execute_reply": "2022-05-02T11:35:26.031510Z",
     "shell.execute_reply.started": "2022-05-02T11:35:26.019672Z"
    },
    "tags": []
   },
   "outputs": [
    {
     "data": {
      "text/plain": [
       "vaex.dataframe.DataFrameLocal"
      ]
     },
     "execution_count": 4,
     "metadata": {},
     "output_type": "execute_result"
    }
   ],
   "source": [
    "type(df_2018)"
   ]
  },
  {
   "cell_type": "code",
   "execution_count": 5,
   "id": "9e817891-3588-4f2a-bdca-e940c017836a",
   "metadata": {
    "execution": {
     "iopub.execute_input": "2022-05-02T11:35:26.036276Z",
     "iopub.status.busy": "2022-05-02T11:35:26.035780Z",
     "iopub.status.idle": "2022-05-02T11:35:26.048927Z",
     "shell.execute_reply": "2022-05-02T11:35:26.047793Z",
     "shell.execute_reply.started": "2022-05-02T11:35:26.036251Z"
    },
    "tags": []
   },
   "outputs": [
    {
     "data": {
      "text/plain": [
       "7213446"
      ]
     },
     "execution_count": 5,
     "metadata": {},
     "output_type": "execute_result"
    }
   ],
   "source": [
    "len(df_2018)"
   ]
  },
  {
   "cell_type": "code",
   "execution_count": 6,
   "id": "77c817cc-2a90-46e8-b039-793021d8961d",
   "metadata": {
    "execution": {
     "iopub.execute_input": "2022-05-02T11:35:31.112822Z",
     "iopub.status.busy": "2022-05-02T11:35:31.112314Z",
     "iopub.status.idle": "2022-05-02T11:35:38.762978Z",
     "shell.execute_reply": "2022-05-02T11:35:38.762450Z",
     "shell.execute_reply.started": "2022-05-02T11:35:31.112795Z"
    },
    "tags": []
   },
   "outputs": [
    {
     "data": {
      "text/html": [
       "<style>.vaex-description pre {\n",
       "          max-width : 450px;\n",
       "          white-space : nowrap;\n",
       "          overflow : hidden;\n",
       "          text-overflow: ellipsis;\n",
       "        }\n",
       "\n",
       "        .vex-description pre:hover {\n",
       "          max-width : initial;\n",
       "          white-space: pre;\n",
       "        }</style>"
      ],
      "text/plain": [
       "<IPython.core.display.HTML object>"
      ]
     },
     "metadata": {},
     "output_type": "display_data"
    },
    {
     "data": {
      "text/html": [
       "<div><h2>no-name</h2> <b>rows</b>: 7,213,446</div><h2>Columns:</h2><table class='table-striped'><thead><tr><th>column</th><th>type</th><th>unit</th><th>description</th><th>expression</th></tr></thead><tr><td>FL_DATE</td><td>date32[day]</td><td></td><td ><pre></pre></td><td></td></tr><tr><td>OP_CARRIER</td><td>str</td><td></td><td ><pre></pre></td><td></td></tr><tr><td>OP_CARRIER_FL_NUM</td><td>int64</td><td></td><td ><pre></pre></td><td></td></tr><tr><td>ORIGIN</td><td>str</td><td></td><td ><pre></pre></td><td></td></tr><tr><td>DEST</td><td>str</td><td></td><td ><pre></pre></td><td></td></tr><tr><td>CRS_DEP_TIME</td><td>int64</td><td></td><td ><pre></pre></td><td></td></tr><tr><td>DEP_TIME</td><td>float64</td><td></td><td ><pre></pre></td><td></td></tr><tr><td>DEP_DELAY</td><td>float64</td><td></td><td ><pre></pre></td><td></td></tr><tr><td>TAXI_OUT</td><td>float64</td><td></td><td ><pre></pre></td><td></td></tr><tr><td>WHEELS_OFF</td><td>float64</td><td></td><td ><pre></pre></td><td></td></tr><tr><td>WHEELS_ON</td><td>float64</td><td></td><td ><pre></pre></td><td></td></tr><tr><td>TAXI_IN</td><td>float64</td><td></td><td ><pre></pre></td><td></td></tr><tr><td>CRS_ARR_TIME</td><td>int64</td><td></td><td ><pre></pre></td><td></td></tr><tr><td>ARR_TIME</td><td>float64</td><td></td><td ><pre></pre></td><td></td></tr><tr><td>ARR_DELAY</td><td>float64</td><td></td><td ><pre></pre></td><td></td></tr><tr><td>CANCELLED</td><td>float64</td><td></td><td ><pre></pre></td><td></td></tr><tr><td>CANCELLATION_CODE</td><td>str</td><td></td><td ><pre></pre></td><td></td></tr><tr><td>DIVERTED</td><td>float64</td><td></td><td ><pre></pre></td><td></td></tr><tr><td>CRS_ELAPSED_TIME</td><td>float64</td><td></td><td ><pre></pre></td><td></td></tr><tr><td>ACTUAL_ELAPSED_TIME</td><td>float64</td><td></td><td ><pre></pre></td><td></td></tr><tr><td>AIR_TIME</td><td>float64</td><td></td><td ><pre></pre></td><td></td></tr><tr><td>DISTANCE</td><td>float64</td><td></td><td ><pre></pre></td><td></td></tr><tr><td>CARRIER_DELAY</td><td>float64</td><td></td><td ><pre></pre></td><td></td></tr><tr><td>WEATHER_DELAY</td><td>float64</td><td></td><td ><pre></pre></td><td></td></tr><tr><td>NAS_DELAY</td><td>float64</td><td></td><td ><pre></pre></td><td></td></tr><tr><td>SECURITY_DELAY</td><td>float64</td><td></td><td ><pre></pre></td><td></td></tr><tr><td>LATE_AIRCRAFT_DELAY</td><td>float64</td><td></td><td ><pre></pre></td><td></td></tr><tr><td>Unnamed: 27</td><td>null</td><td></td><td ><pre></pre></td><td></td></tr></table><h2>Data:</h2><table>\n",
       "<thead>\n",
       "<tr><th>#                                    </th><th>FL_DATE   </th><th>OP_CARRIER  </th><th>OP_CARRIER_FL_NUM  </th><th>ORIGIN  </th><th>DEST  </th><th>CRS_DEP_TIME  </th><th>DEP_TIME  </th><th>DEP_DELAY  </th><th>TAXI_OUT  </th><th>WHEELS_OFF  </th><th>WHEELS_ON  </th><th>TAXI_IN  </th><th>CRS_ARR_TIME  </th><th>ARR_TIME  </th><th>ARR_DELAY  </th><th>CANCELLED  </th><th>CANCELLATION_CODE  </th><th>DIVERTED  </th><th>CRS_ELAPSED_TIME  </th><th>ACTUAL_ELAPSED_TIME  </th><th>AIR_TIME  </th><th>DISTANCE  </th><th>CARRIER_DELAY  </th><th>WEATHER_DELAY  </th><th>NAS_DELAY  </th><th>SECURITY_DELAY  </th><th>LATE_AIRCRAFT_DELAY  </th><th>Unnamed: 27  </th></tr>\n",
       "</thead>\n",
       "<tbody>\n",
       "<tr><td><i style='opacity: 0.6'>0</i>        </td><td>2018-01-01</td><td>UA          </td><td>2429               </td><td>EWR     </td><td>DEN   </td><td>1517          </td><td>1512.0    </td><td>-5.0       </td><td>15.0      </td><td>1527.0      </td><td>1712.0     </td><td>10.0     </td><td>1745          </td><td>1722.0    </td><td>-23.0      </td><td>0.0        </td><td>                   </td><td>0.0       </td><td>268.0             </td><td>250.0                </td><td>225.0     </td><td>1605.0    </td><td>--             </td><td>--             </td><td>--         </td><td>--              </td><td>--                   </td><td>--           </td></tr>\n",
       "<tr><td><i style='opacity: 0.6'>1</i>        </td><td>2018-01-01</td><td>UA          </td><td>2427               </td><td>LAS     </td><td>SFO   </td><td>1115          </td><td>1107.0    </td><td>-8.0       </td><td>11.0      </td><td>1118.0      </td><td>1223.0     </td><td>7.0      </td><td>1254          </td><td>1230.0    </td><td>-24.0      </td><td>0.0        </td><td>                   </td><td>0.0       </td><td>99.0              </td><td>83.0                 </td><td>65.0      </td><td>414.0     </td><td>--             </td><td>--             </td><td>--         </td><td>--              </td><td>--                   </td><td>--           </td></tr>\n",
       "<tr><td><i style='opacity: 0.6'>2</i>        </td><td>2018-01-01</td><td>UA          </td><td>2426               </td><td>SNA     </td><td>DEN   </td><td>1335          </td><td>1330.0    </td><td>-5.0       </td><td>15.0      </td><td>1345.0      </td><td>1631.0     </td><td>5.0      </td><td>1649          </td><td>1636.0    </td><td>-13.0      </td><td>0.0        </td><td>                   </td><td>0.0       </td><td>134.0             </td><td>126.0                </td><td>106.0     </td><td>846.0     </td><td>--             </td><td>--             </td><td>--         </td><td>--              </td><td>--                   </td><td>--           </td></tr>\n",
       "<tr><td><i style='opacity: 0.6'>3</i>        </td><td>2018-01-01</td><td>UA          </td><td>2425               </td><td>RSW     </td><td>ORD   </td><td>1546          </td><td>1552.0    </td><td>6.0        </td><td>19.0      </td><td>1611.0      </td><td>1748.0     </td><td>6.0      </td><td>1756          </td><td>1754.0    </td><td>-2.0       </td><td>0.0        </td><td>                   </td><td>0.0       </td><td>190.0             </td><td>182.0                </td><td>157.0     </td><td>1120.0    </td><td>--             </td><td>--             </td><td>--         </td><td>--              </td><td>--                   </td><td>--           </td></tr>\n",
       "<tr><td><i style='opacity: 0.6'>4</i>        </td><td>2018-01-01</td><td>UA          </td><td>2424               </td><td>ORD     </td><td>ALB   </td><td>630           </td><td>650.0     </td><td>20.0       </td><td>13.0      </td><td>703.0       </td><td>926.0      </td><td>10.0     </td><td>922           </td><td>936.0     </td><td>14.0       </td><td>0.0        </td><td>                   </td><td>0.0       </td><td>112.0             </td><td>106.0                </td><td>83.0      </td><td>723.0     </td><td>--             </td><td>--             </td><td>--         </td><td>--              </td><td>--                   </td><td>--           </td></tr>\n",
       "<tr><td>...                                  </td><td>...       </td><td>...         </td><td>...                </td><td>...     </td><td>...   </td><td>...           </td><td>...       </td><td>...        </td><td>...       </td><td>...         </td><td>...        </td><td>...      </td><td>...           </td><td>...       </td><td>...        </td><td>...        </td><td>...                </td><td>...       </td><td>...               </td><td>...                  </td><td>...       </td><td>...       </td><td>...            </td><td>...            </td><td>...        </td><td>...             </td><td>...                  </td><td>...          </td></tr>\n",
       "<tr><td><i style='opacity: 0.6'>7,213,441</i></td><td>2018-12-31</td><td>AA          </td><td>1815               </td><td>DCA     </td><td>CLT   </td><td>1534          </td><td>1530.0    </td><td>-4.0       </td><td>20.0      </td><td>1550.0      </td><td>1702.0     </td><td>7.0      </td><td>1714          </td><td>1709.0    </td><td>-5.0       </td><td>0.0        </td><td>                   </td><td>0.0       </td><td>100.0             </td><td>99.0                 </td><td>72.0      </td><td>331.0     </td><td>--             </td><td>--             </td><td>--         </td><td>--              </td><td>--                   </td><td>--           </td></tr>\n",
       "<tr><td><i style='opacity: 0.6'>7,213,442</i></td><td>2018-12-31</td><td>AA          </td><td>1816               </td><td>CLT     </td><td>DFW   </td><td>1751          </td><td>1757.0    </td><td>6.0        </td><td>18.0      </td><td>1815.0      </td><td>1943.0     </td><td>10.0     </td><td>1952          </td><td>1953.0    </td><td>1.0        </td><td>0.0        </td><td>                   </td><td>0.0       </td><td>181.0             </td><td>176.0                </td><td>148.0     </td><td>936.0     </td><td>--             </td><td>--             </td><td>--         </td><td>--              </td><td>--                   </td><td>--           </td></tr>\n",
       "<tr><td><i style='opacity: 0.6'>7,213,443</i></td><td>2018-12-31</td><td>AA          </td><td>1817               </td><td>CLT     </td><td>MEM   </td><td>2015          </td><td>2010.0    </td><td>-5.0       </td><td>36.0      </td><td>2046.0      </td><td>2114.0     </td><td>4.0      </td><td>2107          </td><td>2118.0    </td><td>11.0       </td><td>0.0        </td><td>                   </td><td>0.0       </td><td>112.0             </td><td>128.0                </td><td>88.0      </td><td>511.0     </td><td>--             </td><td>--             </td><td>--         </td><td>--              </td><td>--                   </td><td>--           </td></tr>\n",
       "<tr><td><i style='opacity: 0.6'>7,213,444</i></td><td>2018-12-31</td><td>AA          </td><td>1818               </td><td>CLT     </td><td>RDU   </td><td>1300          </td><td>1323.0    </td><td>23.0       </td><td>11.0      </td><td>1334.0      </td><td>1400.0     </td><td>4.0      </td><td>1350          </td><td>1404.0    </td><td>14.0       </td><td>0.0        </td><td>                   </td><td>0.0       </td><td>50.0              </td><td>41.0                 </td><td>26.0      </td><td>130.0     </td><td>--             </td><td>--             </td><td>--         </td><td>--              </td><td>--                   </td><td>--           </td></tr>\n",
       "<tr><td><i style='opacity: 0.6'>7,213,445</i></td><td>2018-12-31</td><td>AA          </td><td>1818               </td><td>RDU     </td><td>CLT   </td><td>1435          </td><td>1443.0    </td><td>8.0        </td><td>8.0       </td><td>1451.0      </td><td>1535.0     </td><td>7.0      </td><td>1546          </td><td>1542.0    </td><td>-4.0       </td><td>0.0        </td><td>                   </td><td>0.0       </td><td>71.0              </td><td>59.0                 </td><td>44.0      </td><td>130.0     </td><td>--             </td><td>--             </td><td>--         </td><td>--              </td><td>--                   </td><td>--           </td></tr>\n",
       "</tbody>\n",
       "</table>"
      ],
      "text/plain": [
       "<IPython.core.display.HTML object>"
      ]
     },
     "metadata": {},
     "output_type": "display_data"
    }
   ],
   "source": [
    "df_2018.info()"
   ]
  },
  {
   "cell_type": "code",
   "execution_count": 7,
   "id": "ec2e8121-3461-458d-9fa9-0acd4e91e11a",
   "metadata": {
    "execution": {
     "iopub.execute_input": "2022-05-02T11:35:41.436836Z",
     "iopub.status.busy": "2022-05-02T11:35:41.436221Z",
     "iopub.status.idle": "2022-05-02T11:35:41.441452Z",
     "shell.execute_reply": "2022-05-02T11:35:41.440584Z",
     "shell.execute_reply.started": "2022-05-02T11:35:41.436809Z"
    },
    "tags": []
   },
   "outputs": [
    {
     "name": "stdout",
     "output_type": "stream",
     "text": [
      "['FL_DATE', 'OP_CARRIER', 'OP_CARRIER_FL_NUM', 'ORIGIN', 'DEST', 'CRS_DEP_TIME', 'DEP_TIME', 'DEP_DELAY', 'TAXI_OUT', 'WHEELS_OFF', 'WHEELS_ON', 'TAXI_IN', 'CRS_ARR_TIME', 'ARR_TIME', 'ARR_DELAY', 'CANCELLED', 'CANCELLATION_CODE', 'DIVERTED', 'CRS_ELAPSED_TIME', 'ACTUAL_ELAPSED_TIME', 'AIR_TIME', 'DISTANCE', 'CARRIER_DELAY', 'WEATHER_DELAY', 'NAS_DELAY', 'SECURITY_DELAY', 'LATE_AIRCRAFT_DELAY', 'Unnamed: 27']\n"
     ]
    }
   ],
   "source": [
    "print(df_2018.column_names)"
   ]
  },
  {
   "cell_type": "code",
   "execution_count": 8,
   "id": "e8e074b0-8b9e-4f0b-b69d-46c0502d6498",
   "metadata": {
    "execution": {
     "iopub.execute_input": "2022-05-02T11:35:45.649674Z",
     "iopub.status.busy": "2022-05-02T11:35:45.649072Z",
     "iopub.status.idle": "2022-05-02T11:36:22.900957Z",
     "shell.execute_reply": "2022-05-02T11:36:22.900323Z",
     "shell.execute_reply.started": "2022-05-02T11:35:45.649646Z"
    },
    "tags": []
   },
   "outputs": [
    {
     "data": {
      "text/html": [
       "<div>\n",
       "<style scoped>\n",
       "    .dataframe tbody tr th:only-of-type {\n",
       "        vertical-align: middle;\n",
       "    }\n",
       "\n",
       "    .dataframe tbody tr th {\n",
       "        vertical-align: top;\n",
       "    }\n",
       "\n",
       "    .dataframe thead th {\n",
       "        text-align: right;\n",
       "    }\n",
       "</style>\n",
       "<table border=\"1\" class=\"dataframe\">\n",
       "  <thead>\n",
       "    <tr style=\"text-align: right;\">\n",
       "      <th></th>\n",
       "      <th>OP_CARRIER</th>\n",
       "      <th>OP_CARRIER_FL_NUM</th>\n",
       "      <th>ORIGIN</th>\n",
       "      <th>DEST</th>\n",
       "      <th>CRS_DEP_TIME</th>\n",
       "      <th>DEP_TIME</th>\n",
       "      <th>DEP_DELAY</th>\n",
       "      <th>TAXI_OUT</th>\n",
       "      <th>WHEELS_OFF</th>\n",
       "      <th>WHEELS_ON</th>\n",
       "      <th>...</th>\n",
       "      <th>DIVERTED</th>\n",
       "      <th>CRS_ELAPSED_TIME</th>\n",
       "      <th>ACTUAL_ELAPSED_TIME</th>\n",
       "      <th>AIR_TIME</th>\n",
       "      <th>DISTANCE</th>\n",
       "      <th>CARRIER_DELAY</th>\n",
       "      <th>WEATHER_DELAY</th>\n",
       "      <th>NAS_DELAY</th>\n",
       "      <th>SECURITY_DELAY</th>\n",
       "      <th>LATE_AIRCRAFT_DELAY</th>\n",
       "    </tr>\n",
       "  </thead>\n",
       "  <tbody>\n",
       "    <tr>\n",
       "      <th>data_type</th>\n",
       "      <td>string</td>\n",
       "      <td>int64</td>\n",
       "      <td>string</td>\n",
       "      <td>string</td>\n",
       "      <td>int64</td>\n",
       "      <td>float64</td>\n",
       "      <td>float64</td>\n",
       "      <td>float64</td>\n",
       "      <td>float64</td>\n",
       "      <td>float64</td>\n",
       "      <td>...</td>\n",
       "      <td>float64</td>\n",
       "      <td>float64</td>\n",
       "      <td>float64</td>\n",
       "      <td>float64</td>\n",
       "      <td>float64</td>\n",
       "      <td>float64</td>\n",
       "      <td>float64</td>\n",
       "      <td>float64</td>\n",
       "      <td>float64</td>\n",
       "      <td>float64</td>\n",
       "    </tr>\n",
       "    <tr>\n",
       "      <th>count</th>\n",
       "      <td>7213446</td>\n",
       "      <td>7213446</td>\n",
       "      <td>7213446</td>\n",
       "      <td>7213446</td>\n",
       "      <td>7213446</td>\n",
       "      <td>7101129</td>\n",
       "      <td>7096212</td>\n",
       "      <td>7097616</td>\n",
       "      <td>7097617</td>\n",
       "      <td>7094200</td>\n",
       "      <td>...</td>\n",
       "      <td>7213446</td>\n",
       "      <td>7213436</td>\n",
       "      <td>7079004</td>\n",
       "      <td>7079004</td>\n",
       "      <td>7213446</td>\n",
       "      <td>1352710</td>\n",
       "      <td>1352710</td>\n",
       "      <td>1352710</td>\n",
       "      <td>1352710</td>\n",
       "      <td>1352710</td>\n",
       "    </tr>\n",
       "    <tr>\n",
       "      <th>NA</th>\n",
       "      <td>0</td>\n",
       "      <td>0</td>\n",
       "      <td>0</td>\n",
       "      <td>0</td>\n",
       "      <td>0</td>\n",
       "      <td>112317</td>\n",
       "      <td>117234</td>\n",
       "      <td>115830</td>\n",
       "      <td>115829</td>\n",
       "      <td>119246</td>\n",
       "      <td>...</td>\n",
       "      <td>0</td>\n",
       "      <td>10</td>\n",
       "      <td>134442</td>\n",
       "      <td>134442</td>\n",
       "      <td>0</td>\n",
       "      <td>5860736</td>\n",
       "      <td>5860736</td>\n",
       "      <td>5860736</td>\n",
       "      <td>5860736</td>\n",
       "      <td>5860736</td>\n",
       "    </tr>\n",
       "    <tr>\n",
       "      <th>mean</th>\n",
       "      <td>--</td>\n",
       "      <td>2607.5313346769353</td>\n",
       "      <td>--</td>\n",
       "      <td>--</td>\n",
       "      <td>1329.6870178275403</td>\n",
       "      <td>1333.8538055005056</td>\n",
       "      <td>9.969858425875664</td>\n",
       "      <td>17.410614211870577</td>\n",
       "      <td>1357.7988777078278</td>\n",
       "      <td>1462.16200896507</td>\n",
       "      <td>...</td>\n",
       "      <td>0.0024757931230094464</td>\n",
       "      <td>141.13564825417458</td>\n",
       "      <td>136.49993840941465</td>\n",
       "      <td>111.50204831075106</td>\n",
       "      <td>799.9894896281195</td>\n",
       "      <td>19.45500587709117</td>\n",
       "      <td>3.6364594037155045</td>\n",
       "      <td>15.885470647810692</td>\n",
       "      <td>0.09353889599396767</td>\n",
       "      <td>25.644120321428836</td>\n",
       "    </tr>\n",
       "    <tr>\n",
       "      <th>std</th>\n",
       "      <td>--</td>\n",
       "      <td>1860.122136</td>\n",
       "      <td>--</td>\n",
       "      <td>--</td>\n",
       "      <td>490.931948</td>\n",
       "      <td>504.505513</td>\n",
       "      <td>44.829638</td>\n",
       "      <td>9.920408</td>\n",
       "      <td>505.9721</td>\n",
       "      <td>533.467478</td>\n",
       "      <td>...</td>\n",
       "      <td>0.049696</td>\n",
       "      <td>73.344327</td>\n",
       "      <td>73.137572</td>\n",
       "      <td>71.112922</td>\n",
       "      <td>598.178246</td>\n",
       "      <td>58.908098</td>\n",
       "      <td>29.995995</td>\n",
       "      <td>35.893483</td>\n",
       "      <td>3.174305</td>\n",
       "      <td>49.787743</td>\n",
       "    </tr>\n",
       "    <tr>\n",
       "      <th>min</th>\n",
       "      <td>--</td>\n",
       "      <td>1</td>\n",
       "      <td>--</td>\n",
       "      <td>--</td>\n",
       "      <td>1</td>\n",
       "      <td>1.0</td>\n",
       "      <td>-122.0</td>\n",
       "      <td>1.0</td>\n",
       "      <td>1.0</td>\n",
       "      <td>1.0</td>\n",
       "      <td>...</td>\n",
       "      <td>0.0</td>\n",
       "      <td>-99.0</td>\n",
       "      <td>14.0</td>\n",
       "      <td>7.0</td>\n",
       "      <td>31.0</td>\n",
       "      <td>0.0</td>\n",
       "      <td>0.0</td>\n",
       "      <td>0.0</td>\n",
       "      <td>0.0</td>\n",
       "      <td>0.0</td>\n",
       "    </tr>\n",
       "    <tr>\n",
       "      <th>max</th>\n",
       "      <td>--</td>\n",
       "      <td>7909</td>\n",
       "      <td>--</td>\n",
       "      <td>--</td>\n",
       "      <td>2359</td>\n",
       "      <td>2400.0</td>\n",
       "      <td>2710.0</td>\n",
       "      <td>196.0</td>\n",
       "      <td>2400.0</td>\n",
       "      <td>2400.0</td>\n",
       "      <td>...</td>\n",
       "      <td>1.0</td>\n",
       "      <td>704.0</td>\n",
       "      <td>757.0</td>\n",
       "      <td>696.0</td>\n",
       "      <td>4983.0</td>\n",
       "      <td>2109.0</td>\n",
       "      <td>2692.0</td>\n",
       "      <td>1848.0</td>\n",
       "      <td>987.0</td>\n",
       "      <td>2454.0</td>\n",
       "    </tr>\n",
       "  </tbody>\n",
       "</table>\n",
       "<p>7 rows × 26 columns</p>\n",
       "</div>"
      ],
      "text/plain": [
       "          OP_CARRIER   OP_CARRIER_FL_NUM   ORIGIN     DEST  \\\n",
       "data_type     string               int64   string   string   \n",
       "count        7213446             7213446  7213446  7213446   \n",
       "NA                 0                   0        0        0   \n",
       "mean              --  2607.5313346769353       --       --   \n",
       "std               --         1860.122136       --       --   \n",
       "min               --                   1       --       --   \n",
       "max               --                7909       --       --   \n",
       "\n",
       "                 CRS_DEP_TIME            DEP_TIME          DEP_DELAY  \\\n",
       "data_type               int64             float64            float64   \n",
       "count                 7213446             7101129            7096212   \n",
       "NA                          0              112317             117234   \n",
       "mean       1329.6870178275403  1333.8538055005056  9.969858425875664   \n",
       "std                490.931948          504.505513          44.829638   \n",
       "min                         1                 1.0             -122.0   \n",
       "max                      2359              2400.0             2710.0   \n",
       "\n",
       "                     TAXI_OUT          WHEELS_OFF         WHEELS_ON  ...  \\\n",
       "data_type             float64             float64           float64  ...   \n",
       "count                 7097616             7097617           7094200  ...   \n",
       "NA                     115830              115829            119246  ...   \n",
       "mean       17.410614211870577  1357.7988777078278  1462.16200896507  ...   \n",
       "std                  9.920408            505.9721        533.467478  ...   \n",
       "min                       1.0                 1.0               1.0  ...   \n",
       "max                     196.0              2400.0            2400.0  ...   \n",
       "\n",
       "                        DIVERTED    CRS_ELAPSED_TIME ACTUAL_ELAPSED_TIME  \\\n",
       "data_type                float64             float64             float64   \n",
       "count                    7213446             7213436             7079004   \n",
       "NA                             0                  10              134442   \n",
       "mean       0.0024757931230094464  141.13564825417458  136.49993840941465   \n",
       "std                     0.049696           73.344327           73.137572   \n",
       "min                          0.0               -99.0                14.0   \n",
       "max                          1.0               704.0               757.0   \n",
       "\n",
       "                     AIR_TIME           DISTANCE      CARRIER_DELAY  \\\n",
       "data_type             float64            float64            float64   \n",
       "count                 7079004            7213446            1352710   \n",
       "NA                     134442                  0            5860736   \n",
       "mean       111.50204831075106  799.9894896281195  19.45500587709117   \n",
       "std                 71.112922         598.178246          58.908098   \n",
       "min                       7.0               31.0                0.0   \n",
       "max                     696.0             4983.0             2109.0   \n",
       "\n",
       "                WEATHER_DELAY           NAS_DELAY       SECURITY_DELAY  \\\n",
       "data_type             float64             float64              float64   \n",
       "count                 1352710             1352710              1352710   \n",
       "NA                    5860736             5860736              5860736   \n",
       "mean       3.6364594037155045  15.885470647810692  0.09353889599396767   \n",
       "std                 29.995995           35.893483             3.174305   \n",
       "min                       0.0                 0.0                  0.0   \n",
       "max                    2692.0              1848.0                987.0   \n",
       "\n",
       "          LATE_AIRCRAFT_DELAY  \n",
       "data_type             float64  \n",
       "count                 1352710  \n",
       "NA                    5860736  \n",
       "mean       25.644120321428836  \n",
       "std                 49.787743  \n",
       "min                       0.0  \n",
       "max                    2454.0  \n",
       "\n",
       "[7 rows x 26 columns]"
      ]
     },
     "execution_count": 8,
     "metadata": {},
     "output_type": "execute_result"
    }
   ],
   "source": [
    "df_2018[\n",
    "    df_2018.column_names[1:-1]  # Exclude some problematic columns\n",
    "].describe()"
   ]
  },
  {
   "cell_type": "markdown",
   "id": "11800825-082c-4bcd-80c0-f540a7b9f898",
   "metadata": {},
   "source": [
    "## The power of expressions"
   ]
  },
  {
   "cell_type": "code",
   "execution_count": 9,
   "id": "a39c351f-651f-46c2-b76a-b4889218bf45",
   "metadata": {
    "execution": {
     "iopub.execute_input": "2022-05-02T11:36:22.904178Z",
     "iopub.status.busy": "2022-05-02T11:36:22.903962Z",
     "iopub.status.idle": "2022-05-02T11:36:23.307508Z",
     "shell.execute_reply": "2022-05-02T11:36:23.306861Z",
     "shell.execute_reply.started": "2022-05-02T11:36:22.904140Z"
    },
    "tags": []
   },
   "outputs": [
    {
     "data": {
      "text/plain": [
       "Expression = OP_CARRIER\n",
       "Length: 7,213,446 dtype: string (column)\n",
       "----------------------------------------\n",
       "      0  UA\n",
       "      1  UA\n",
       "      2  UA\n",
       "      3  UA\n",
       "      4  UA\n",
       "    ...    \n",
       "7213441  AA\n",
       "7213442  AA\n",
       "7213443  AA\n",
       "7213444  AA\n",
       "7213445  AA"
      ]
     },
     "execution_count": 9,
     "metadata": {},
     "output_type": "execute_result"
    }
   ],
   "source": [
    "# df_2018.col.OP_CARRIER\n",
    "df_2018[\"OP_CARRIER\"]"
   ]
  },
  {
   "cell_type": "code",
   "execution_count": 10,
   "id": "df9e67ae-ca6b-4bc1-9979-f69cff224316",
   "metadata": {
    "execution": {
     "iopub.execute_input": "2022-05-02T11:36:26.799901Z",
     "iopub.status.busy": "2022-05-02T11:36:26.799293Z",
     "iopub.status.idle": "2022-05-02T11:36:27.760804Z",
     "shell.execute_reply": "2022-05-02T11:36:27.760142Z",
     "shell.execute_reply.started": "2022-05-02T11:36:26.799873Z"
    },
    "tags": []
   },
   "outputs": [
    {
     "data": {
      "text/plain": [
       "Expression = (ACTUAL_ELAPSED_TIME - CRS_ELAPSED_TIME)\n",
       "Length: 7,213,446 dtype: float64 (expression)\n",
       "---------------------------------------------\n",
       "      0  -18\n",
       "      1  -16\n",
       "      2   -8\n",
       "      3   -8\n",
       "      4   -6\n",
       "    ...     \n",
       "7213441   -1\n",
       "7213442   -5\n",
       "7213443   16\n",
       "7213444   -9\n",
       "7213445  -12"
      ]
     },
     "execution_count": 10,
     "metadata": {},
     "output_type": "execute_result"
    }
   ],
   "source": [
    "df_2018[\"ACTUAL_ELAPSED_TIME\"] - df_2018[\"CRS_ELAPSED_TIME\"]"
   ]
  },
  {
   "cell_type": "code",
   "execution_count": 11,
   "id": "c480694f-6864-4027-9646-2e52f37e0181",
   "metadata": {
    "execution": {
     "iopub.execute_input": "2022-05-02T11:36:30.041097Z",
     "iopub.status.busy": "2022-05-02T11:36:30.040607Z",
     "iopub.status.idle": "2022-05-02T11:36:30.963057Z",
     "shell.execute_reply": "2022-05-02T11:36:30.962472Z",
     "shell.execute_reply.started": "2022-05-02T11:36:30.041068Z"
    },
    "tags": []
   },
   "outputs": [
    {
     "data": {
      "text/plain": [
       "Expression = ACTUAL_ELAPSED_TIME - CRS_ELAPSED_TIME\n",
       "Length: 7,213,446 dtype: float64 (expression)\n",
       "---------------------------------------------\n",
       "      0  -18\n",
       "      1  -16\n",
       "      2   -8\n",
       "      3   -8\n",
       "      4   -6\n",
       "    ...     \n",
       "7213441   -1\n",
       "7213442   -5\n",
       "7213443   16\n",
       "7213444   -9\n",
       "7213445  -12"
      ]
     },
     "execution_count": 11,
     "metadata": {},
     "output_type": "execute_result"
    }
   ],
   "source": [
    "df_2018[\"ACTUAL_ELAPSED_TIME - CRS_ELAPSED_TIME\"]"
   ]
  },
  {
   "cell_type": "code",
   "execution_count": 12,
   "id": "08419ee3-629b-45d0-9f73-a4bd88ebf261",
   "metadata": {
    "execution": {
     "iopub.execute_input": "2022-05-02T11:36:35.556701Z",
     "iopub.status.busy": "2022-05-02T11:36:35.556407Z",
     "iopub.status.idle": "2022-05-02T11:36:35.563766Z",
     "shell.execute_reply": "2022-05-02T11:36:35.563095Z",
     "shell.execute_reply.started": "2022-05-02T11:36:35.556675Z"
    },
    "tags": []
   },
   "outputs": [],
   "source": [
    "import numpy as np"
   ]
  },
  {
   "cell_type": "code",
   "execution_count": 13,
   "id": "eeb92507-0681-4d60-8596-01e5227cd9a1",
   "metadata": {
    "execution": {
     "iopub.execute_input": "2022-05-02T11:36:36.358849Z",
     "iopub.status.busy": "2022-05-02T11:36:36.358309Z",
     "iopub.status.idle": "2022-05-02T11:36:36.969766Z",
     "shell.execute_reply": "2022-05-02T11:36:36.969036Z",
     "shell.execute_reply.started": "2022-05-02T11:36:36.358821Z"
    },
    "tags": []
   },
   "outputs": [
    {
     "data": {
      "text/plain": [
       "Expression = sqrt(DISTANCE)\n",
       "Length: 7,213,446 dtype: float64 (expression)\n",
       "---------------------------------------------\n",
       "      0  40.0625\n",
       "      1   20.347\n",
       "      2  29.0861\n",
       "      3  33.4664\n",
       "      4  26.8887\n",
       "      ...       \n",
       "7213441  18.1934\n",
       "7213442  30.5941\n",
       "7213443  22.6053\n",
       "7213444  11.4018\n",
       "7213445  11.4018"
      ]
     },
     "execution_count": 13,
     "metadata": {},
     "output_type": "execute_result"
    }
   ],
   "source": [
    "np.sqrt(df_2018[\"DISTANCE\"])"
   ]
  },
  {
   "cell_type": "code",
   "execution_count": 14,
   "id": "876cc3ae-4e77-4a34-9e8f-5784b3388392",
   "metadata": {
    "execution": {
     "iopub.execute_input": "2022-05-02T11:36:38.536878Z",
     "iopub.status.busy": "2022-05-02T11:36:38.536630Z",
     "iopub.status.idle": "2022-05-02T11:36:39.070242Z",
     "shell.execute_reply": "2022-05-02T11:36:39.069556Z",
     "shell.execute_reply.started": "2022-05-02T11:36:38.536852Z"
    },
    "tags": []
   },
   "outputs": [
    {
     "data": {
      "text/plain": [
       "Expression = sqrt(DISTANCE)\n",
       "Length: 7,213,446 dtype: float64 (expression)\n",
       "---------------------------------------------\n",
       "      0  40.0625\n",
       "      1   20.347\n",
       "      2  29.0861\n",
       "      3  33.4664\n",
       "      4  26.8887\n",
       "      ...       \n",
       "7213441  18.1934\n",
       "7213442  30.5941\n",
       "7213443  22.6053\n",
       "7213444  11.4018\n",
       "7213445  11.4018"
      ]
     },
     "execution_count": 14,
     "metadata": {},
     "output_type": "execute_result"
    }
   ],
   "source": [
    "df_2018[\"sqrt(DISTANCE)\"]"
   ]
  },
  {
   "cell_type": "code",
   "execution_count": 15,
   "id": "99369a1e-2fcf-4f56-9e97-a8af93d1fde2",
   "metadata": {
    "execution": {
     "iopub.execute_input": "2022-05-02T11:36:45.637995Z",
     "iopub.status.busy": "2022-05-02T11:36:45.637399Z",
     "iopub.status.idle": "2022-05-02T11:36:46.062712Z",
     "shell.execute_reply": "2022-05-02T11:36:46.062072Z",
     "shell.execute_reply.started": "2022-05-02T11:36:45.637968Z"
    },
    "tags": []
   },
   "outputs": [
    {
     "data": {
      "text/plain": [
       "array(116584.)"
      ]
     },
     "execution_count": 15,
     "metadata": {},
     "output_type": "execute_result"
    }
   ],
   "source": [
    "df_2018[\"CANCELLED\"].sum()"
   ]
  },
  {
   "cell_type": "code",
   "execution_count": 16,
   "id": "b019168a-9814-4c8e-869b-90878cdbdbfa",
   "metadata": {
    "execution": {
     "iopub.execute_input": "2022-05-02T11:36:50.305377Z",
     "iopub.status.busy": "2022-05-02T11:36:50.304774Z",
     "iopub.status.idle": "2022-05-02T11:36:52.513097Z",
     "shell.execute_reply": "2022-05-02T11:36:52.512473Z",
     "shell.execute_reply.started": "2022-05-02T11:36:50.305345Z"
    },
    "tags": []
   },
   "outputs": [
    {
     "data": {
      "application/vnd.jupyter.widget-view+json": {
       "model_id": "c1bc66e813fb427fa5dd8f1af3f5236e",
       "version_major": 2,
       "version_minor": 0
      },
      "text/plain": [
       "Output()"
      ]
     },
     "metadata": {},
     "output_type": "display_data"
    },
    {
     "data": {
      "text/html": [
       "<pre style=\"white-space:pre;overflow-x:auto;line-height:normal;font-family:Menlo,'DejaVu Sans Mono',consolas,'Courier New',monospace\"></pre>\n"
      ],
      "text/plain": []
     },
     "metadata": {},
     "output_type": "display_data"
    },
    {
     "data": {
      "text/plain": [
       "array(-4.84475231)"
      ]
     },
     "execution_count": 16,
     "metadata": {},
     "output_type": "execute_result"
    }
   ],
   "source": [
    "df_2018[\"ACTUAL_ELAPSED_TIME - CRS_ELAPSED_TIME\"].mean(progress=\"rich\")"
   ]
  },
  {
   "cell_type": "code",
   "execution_count": 17,
   "id": "57c94d73-9f43-48ae-87c5-e1688ae8b097",
   "metadata": {
    "execution": {
     "iopub.execute_input": "2022-05-02T11:36:58.005228Z",
     "iopub.status.busy": "2022-05-02T11:36:58.004717Z",
     "iopub.status.idle": "2022-05-02T11:36:59.212560Z",
     "shell.execute_reply": "2022-05-02T11:36:59.211822Z",
     "shell.execute_reply.started": "2022-05-02T11:36:58.005188Z"
    },
    "tags": []
   },
   "outputs": [
    {
     "data": {
      "application/vnd.jupyter.widget-view+json": {
       "model_id": "a707b9e765f044c8ab8c1f20faa3b246",
       "version_major": 2,
       "version_minor": 0
      },
      "text/plain": [
       "Output()"
      ]
     },
     "metadata": {},
     "output_type": "display_data"
    },
    {
     "data": {
      "text/html": [
       "<pre style=\"white-space:pre;overflow-x:auto;line-height:normal;font-family:Menlo,'DejaVu Sans Mono',consolas,'Courier New',monospace\"></pre>\n"
      ],
      "text/plain": []
     },
     "metadata": {},
     "output_type": "display_data"
    },
    {
     "data": {
      "text/plain": [
       "array(38.18255826)"
      ]
     },
     "execution_count": 17,
     "metadata": {},
     "output_type": "execute_result"
    }
   ],
   "source": [
    "# We exclude \"CANCELLED\" flights and ones that arrived on time\n",
    "# to compute the mean delay time \n",
    "delayed = df_2018[(df_2018[\"CANCELLED\"] == 0.0) & (df_2018[\"DEP_DELAY\"] > 0)]\n",
    "delayed[\"DEP_DELAY\"].mean(progress=\"rich\")"
   ]
  },
  {
   "cell_type": "markdown",
   "id": "e3df2381-1a3f-4991-aa03-7c4b3b333ae1",
   "metadata": {},
   "source": [
    "Load all data files:"
   ]
  },
  {
   "cell_type": "code",
   "execution_count": 18,
   "id": "431959a4-6fda-48ff-b387-3424d01651aa",
   "metadata": {
    "execution": {
     "iopub.execute_input": "2022-05-02T11:37:18.600547Z",
     "iopub.status.busy": "2022-05-02T11:37:18.599907Z",
     "iopub.status.idle": "2022-05-02T11:37:35.029224Z",
     "shell.execute_reply": "2022-05-02T11:37:35.028544Z",
     "shell.execute_reply.started": "2022-05-02T11:37:18.600513Z"
    },
    "tags": []
   },
   "outputs": [
    {
     "data": {
      "text/html": [
       "<table>\n",
       "<thead>\n",
       "<tr><th>#                                     </th><th>FL_DATE   </th><th>OP_CARRIER  </th><th>OP_CARRIER_FL_NUM  </th><th>ORIGIN  </th><th>DEST  </th><th>CRS_DEP_TIME  </th><th>DEP_TIME  </th><th>DEP_DELAY  </th><th>TAXI_OUT  </th><th>WHEELS_OFF  </th><th>WHEELS_ON  </th><th>TAXI_IN  </th><th>CRS_ARR_TIME  </th><th>ARR_TIME  </th><th>ARR_DELAY  </th><th>CANCELLED  </th><th>CANCELLATION_CODE  </th><th>DIVERTED  </th><th>CRS_ELAPSED_TIME  </th><th>ACTUAL_ELAPSED_TIME  </th><th>AIR_TIME  </th><th>DISTANCE  </th><th>CARRIER_DELAY  </th><th>WEATHER_DELAY  </th><th>NAS_DELAY  </th><th>SECURITY_DELAY  </th><th>LATE_AIRCRAFT_DELAY  </th><th>Unnamed: 27  </th></tr>\n",
       "</thead>\n",
       "<tbody>\n",
       "<tr><td><i style='opacity: 0.6'>0</i>         </td><td>2009-01-01</td><td>XE          </td><td>1204               </td><td>DCA     </td><td>EWR   </td><td>1100.0        </td><td>1058.0    </td><td>-2.0       </td><td>18.0      </td><td>1116.0      </td><td>1158.0     </td><td>8.0      </td><td>1202.0        </td><td>1206.0    </td><td>4.0        </td><td>0.0        </td><td>                   </td><td>0.0       </td><td>62.0              </td><td>68.0                 </td><td>42.0      </td><td>199.0     </td><td>--             </td><td>--             </td><td>--         </td><td>--              </td><td>--                   </td><td>--           </td></tr>\n",
       "<tr><td><i style='opacity: 0.6'>1</i>         </td><td>2009-01-01</td><td>XE          </td><td>1206               </td><td>EWR     </td><td>IAD   </td><td>1510.0        </td><td>1509.0    </td><td>-1.0       </td><td>28.0      </td><td>1537.0      </td><td>1620.0     </td><td>4.0      </td><td>1632.0        </td><td>1624.0    </td><td>-8.0       </td><td>0.0        </td><td>                   </td><td>0.0       </td><td>82.0              </td><td>75.0                 </td><td>43.0      </td><td>213.0     </td><td>--             </td><td>--             </td><td>--         </td><td>--              </td><td>--                   </td><td>--           </td></tr>\n",
       "<tr><td><i style='opacity: 0.6'>2</i>         </td><td>2009-01-01</td><td>XE          </td><td>1207               </td><td>EWR     </td><td>DCA   </td><td>1100.0        </td><td>1059.0    </td><td>-1.0       </td><td>20.0      </td><td>1119.0      </td><td>1155.0     </td><td>6.0      </td><td>1210.0        </td><td>1201.0    </td><td>-9.0       </td><td>0.0        </td><td>                   </td><td>0.0       </td><td>70.0              </td><td>62.0                 </td><td>36.0      </td><td>199.0     </td><td>--             </td><td>--             </td><td>--         </td><td>--              </td><td>--                   </td><td>--           </td></tr>\n",
       "<tr><td><i style='opacity: 0.6'>3</i>         </td><td>2009-01-01</td><td>XE          </td><td>1208               </td><td>DCA     </td><td>EWR   </td><td>1240.0        </td><td>1249.0    </td><td>9.0        </td><td>10.0      </td><td>1259.0      </td><td>1336.0     </td><td>9.0      </td><td>1357.0        </td><td>1345.0    </td><td>-12.0      </td><td>0.0        </td><td>                   </td><td>0.0       </td><td>77.0              </td><td>56.0                 </td><td>37.0      </td><td>199.0     </td><td>--             </td><td>--             </td><td>--         </td><td>--              </td><td>--                   </td><td>--           </td></tr>\n",
       "<tr><td><i style='opacity: 0.6'>4</i>         </td><td>2009-01-01</td><td>XE          </td><td>1209               </td><td>IAD     </td><td>EWR   </td><td>1715.0        </td><td>1705.0    </td><td>-10.0      </td><td>24.0      </td><td>1729.0      </td><td>1809.0     </td><td>13.0     </td><td>1900.0        </td><td>1822.0    </td><td>-38.0      </td><td>0.0        </td><td>                   </td><td>0.0       </td><td>105.0             </td><td>77.0                 </td><td>40.0      </td><td>213.0     </td><td>--             </td><td>--             </td><td>--         </td><td>--              </td><td>--                   </td><td>--           </td></tr>\n",
       "<tr><td>...                                   </td><td>...       </td><td>...         </td><td>...                </td><td>...     </td><td>...   </td><td>...           </td><td>...       </td><td>...        </td><td>...       </td><td>...         </td><td>...        </td><td>...      </td><td>...           </td><td>...       </td><td>...        </td><td>...        </td><td>...                </td><td>...       </td><td>...               </td><td>...                  </td><td>...       </td><td>...       </td><td>...            </td><td>...            </td><td>...        </td><td>...             </td><td>...                  </td><td>...          </td></tr>\n",
       "<tr><td><i style='opacity: 0.6'>61,556,959</i></td><td>2018-12-31</td><td>AA          </td><td>1815               </td><td>DCA     </td><td>CLT   </td><td>1534.0        </td><td>1530.0    </td><td>-4.0       </td><td>20.0      </td><td>1550.0      </td><td>1702.0     </td><td>7.0      </td><td>1714.0        </td><td>1709.0    </td><td>-5.0       </td><td>0.0        </td><td>                   </td><td>0.0       </td><td>100.0             </td><td>99.0                 </td><td>72.0      </td><td>331.0     </td><td>--             </td><td>--             </td><td>--         </td><td>--              </td><td>--                   </td><td>--           </td></tr>\n",
       "<tr><td><i style='opacity: 0.6'>61,556,960</i></td><td>2018-12-31</td><td>AA          </td><td>1816               </td><td>CLT     </td><td>DFW   </td><td>1751.0        </td><td>1757.0    </td><td>6.0        </td><td>18.0      </td><td>1815.0      </td><td>1943.0     </td><td>10.0     </td><td>1952.0        </td><td>1953.0    </td><td>1.0        </td><td>0.0        </td><td>                   </td><td>0.0       </td><td>181.0             </td><td>176.0                </td><td>148.0     </td><td>936.0     </td><td>--             </td><td>--             </td><td>--         </td><td>--              </td><td>--                   </td><td>--           </td></tr>\n",
       "<tr><td><i style='opacity: 0.6'>61,556,961</i></td><td>2018-12-31</td><td>AA          </td><td>1817               </td><td>CLT     </td><td>MEM   </td><td>2015.0        </td><td>2010.0    </td><td>-5.0       </td><td>36.0      </td><td>2046.0      </td><td>2114.0     </td><td>4.0      </td><td>2107.0        </td><td>2118.0    </td><td>11.0       </td><td>0.0        </td><td>                   </td><td>0.0       </td><td>112.0             </td><td>128.0                </td><td>88.0      </td><td>511.0     </td><td>--             </td><td>--             </td><td>--         </td><td>--              </td><td>--                   </td><td>--           </td></tr>\n",
       "<tr><td><i style='opacity: 0.6'>61,556,962</i></td><td>2018-12-31</td><td>AA          </td><td>1818               </td><td>CLT     </td><td>RDU   </td><td>1300.0        </td><td>1323.0    </td><td>23.0       </td><td>11.0      </td><td>1334.0      </td><td>1400.0     </td><td>4.0      </td><td>1350.0        </td><td>1404.0    </td><td>14.0       </td><td>0.0        </td><td>                   </td><td>0.0       </td><td>50.0              </td><td>41.0                 </td><td>26.0      </td><td>130.0     </td><td>--             </td><td>--             </td><td>--         </td><td>--              </td><td>--                   </td><td>--           </td></tr>\n",
       "<tr><td><i style='opacity: 0.6'>61,556,963</i></td><td>2018-12-31</td><td>AA          </td><td>1818               </td><td>RDU     </td><td>CLT   </td><td>1435.0        </td><td>1443.0    </td><td>8.0        </td><td>8.0       </td><td>1451.0      </td><td>1535.0     </td><td>7.0      </td><td>1546.0        </td><td>1542.0    </td><td>-4.0       </td><td>0.0        </td><td>                   </td><td>0.0       </td><td>71.0              </td><td>59.0                 </td><td>44.0      </td><td>130.0     </td><td>--             </td><td>--             </td><td>--         </td><td>--              </td><td>--                   </td><td>--           </td></tr>\n",
       "</tbody>\n",
       "</table>"
      ],
      "text/plain": [
       "#           FL_DATE     OP_CARRIER    OP_CARRIER_FL_NUM    ORIGIN    DEST    CRS_DEP_TIME    DEP_TIME    DEP_DELAY    TAXI_OUT    WHEELS_OFF    WHEELS_ON    TAXI_IN    CRS_ARR_TIME    ARR_TIME    ARR_DELAY    CANCELLED    CANCELLATION_CODE    DIVERTED    CRS_ELAPSED_TIME    ACTUAL_ELAPSED_TIME    AIR_TIME    DISTANCE    CARRIER_DELAY    WEATHER_DELAY    NAS_DELAY    SECURITY_DELAY    LATE_AIRCRAFT_DELAY    Unnamed: 27\n",
       "0           2009-01-01  XE            1204                 DCA       EWR     1100.0          1058.0      -2.0         18.0        1116.0        1158.0       8.0        1202.0          1206.0      4.0          0.0                               0.0         62.0                68.0                   42.0        199.0       --               --               --           --                --                     --\n",
       "1           2009-01-01  XE            1206                 EWR       IAD     1510.0          1509.0      -1.0         28.0        1537.0        1620.0       4.0        1632.0          1624.0      -8.0         0.0                               0.0         82.0                75.0                   43.0        213.0       --               --               --           --                --                     --\n",
       "2           2009-01-01  XE            1207                 EWR       DCA     1100.0          1059.0      -1.0         20.0        1119.0        1155.0       6.0        1210.0          1201.0      -9.0         0.0                               0.0         70.0                62.0                   36.0        199.0       --               --               --           --                --                     --\n",
       "3           2009-01-01  XE            1208                 DCA       EWR     1240.0          1249.0      9.0          10.0        1259.0        1336.0       9.0        1357.0          1345.0      -12.0        0.0                               0.0         77.0                56.0                   37.0        199.0       --               --               --           --                --                     --\n",
       "4           2009-01-01  XE            1209                 IAD       EWR     1715.0          1705.0      -10.0        24.0        1729.0        1809.0       13.0       1900.0          1822.0      -38.0        0.0                               0.0         105.0               77.0                   40.0        213.0       --               --               --           --                --                     --\n",
       "...         ...         ...           ...                  ...       ...     ...             ...         ...          ...         ...           ...          ...        ...             ...         ...          ...          ...                  ...         ...                 ...                    ...         ...         ...              ...              ...          ...               ...                    ...\n",
       "61,556,959  2018-12-31  AA            1815                 DCA       CLT     1534.0          1530.0      -4.0         20.0        1550.0        1702.0       7.0        1714.0          1709.0      -5.0         0.0                               0.0         100.0               99.0                   72.0        331.0       --               --               --           --                --                     --\n",
       "61,556,960  2018-12-31  AA            1816                 CLT       DFW     1751.0          1757.0      6.0          18.0        1815.0        1943.0       10.0       1952.0          1953.0      1.0          0.0                               0.0         181.0               176.0                  148.0       936.0       --               --               --           --                --                     --\n",
       "61,556,961  2018-12-31  AA            1817                 CLT       MEM     2015.0          2010.0      -5.0         36.0        2046.0        2114.0       4.0        2107.0          2118.0      11.0         0.0                               0.0         112.0               128.0                  88.0        511.0       --               --               --           --                --                     --\n",
       "61,556,962  2018-12-31  AA            1818                 CLT       RDU     1300.0          1323.0      23.0         11.0        1334.0        1400.0       4.0        1350.0          1404.0      14.0         0.0                               0.0         50.0                41.0                   26.0        130.0       --               --               --           --                --                     --\n",
       "61,556,963  2018-12-31  AA            1818                 RDU       CLT     1435.0          1443.0      8.0          8.0         1451.0        1535.0       7.0        1546.0          1542.0      -4.0         0.0                               0.0         71.0                59.0                   44.0        130.0       --               --               --           --                --                     --"
      ]
     },
     "execution_count": 18,
     "metadata": {},
     "output_type": "execute_result"
    }
   ],
   "source": [
    "df = vaex.open(\"/data/airline-delays/*.parquet\", progress=\"rich\")\n",
    "df"
   ]
  },
  {
   "cell_type": "code",
   "execution_count": 19,
   "id": "79eda501-af0e-4e73-a0c6-fba8ee55e104",
   "metadata": {
    "execution": {
     "iopub.execute_input": "2022-05-02T11:37:35.032389Z",
     "iopub.status.busy": "2022-05-02T11:37:35.032187Z",
     "iopub.status.idle": "2022-05-02T11:37:35.042327Z",
     "shell.execute_reply": "2022-05-02T11:37:35.041694Z",
     "shell.execute_reply.started": "2022-05-02T11:37:35.032363Z"
    },
    "tags": []
   },
   "outputs": [
    {
     "data": {
      "text/plain": [
       "61556964"
      ]
     },
     "execution_count": 19,
     "metadata": {},
     "output_type": "execute_result"
    }
   ],
   "source": [
    "len(df)"
   ]
  },
  {
   "cell_type": "code",
   "execution_count": 20,
   "id": "750b3351-f922-4c20-91d9-902a025b1fca",
   "metadata": {
    "execution": {
     "iopub.execute_input": "2022-05-02T11:37:35.045928Z",
     "iopub.status.busy": "2022-05-02T11:37:35.044801Z",
     "iopub.status.idle": "2022-05-02T11:37:43.324856Z",
     "shell.execute_reply": "2022-05-02T11:37:43.323698Z",
     "shell.execute_reply.started": "2022-05-02T11:37:35.045902Z"
    },
    "tags": []
   },
   "outputs": [
    {
     "data": {
      "application/vnd.jupyter.widget-view+json": {
       "model_id": "3089b5eeae0b4abb8d6749bb9875d7fc",
       "version_major": 2,
       "version_minor": 0
      },
      "text/plain": [
       "Output()"
      ]
     },
     "metadata": {},
     "output_type": "display_data"
    },
    {
     "data": {
      "text/html": [
       "<pre style=\"white-space:pre;overflow-x:auto;line-height:normal;font-family:Menlo,'DejaVu Sans Mono',consolas,'Courier New',monospace\"></pre>\n"
      ],
      "text/plain": []
     },
     "metadata": {},
     "output_type": "display_data"
    },
    {
     "data": {
      "text/plain": [
       "array(32.15845342)"
      ]
     },
     "execution_count": 20,
     "metadata": {},
     "output_type": "execute_result"
    }
   ],
   "source": [
    "delayed = df[(df[\"CANCELLED\"] == 0.0) & (df[\"DEP_DELAY\"] > 0)]\n",
    "delayed[\"DEP_DELAY\"].mean(progress=\"rich\")"
   ]
  },
  {
   "cell_type": "code",
   "execution_count": 21,
   "id": "81138a13-ee0e-4502-86fd-f33d0e5275b4",
   "metadata": {
    "execution": {
     "iopub.execute_input": "2022-05-02T11:38:16.070829Z",
     "iopub.status.busy": "2022-05-02T11:38:16.070147Z",
     "iopub.status.idle": "2022-05-02T11:38:16.570263Z",
     "shell.execute_reply": "2022-05-02T11:38:16.569316Z",
     "shell.execute_reply.started": "2022-05-02T11:38:16.070796Z"
    },
    "tags": []
   },
   "outputs": [],
   "source": [
    "import seaborn as sns\n",
    "sns.set()"
   ]
  },
  {
   "cell_type": "code",
   "execution_count": 23,
   "id": "4ee64baa-6702-4a5a-8d6b-cdab1d79a896",
   "metadata": {
    "execution": {
     "iopub.execute_input": "2022-05-02T11:38:44.834237Z",
     "iopub.status.busy": "2022-05-02T11:38:44.833544Z",
     "iopub.status.idle": "2022-05-02T11:38:46.209302Z",
     "shell.execute_reply": "2022-05-02T11:38:46.208610Z",
     "shell.execute_reply.started": "2022-05-02T11:38:44.834208Z"
    },
    "tags": []
   },
   "outputs": [
    {
     "data": {
      "image/png": "[encoded data removed]",
      "text/plain": [
       "<Figure size 640x400 with 1 Axes>"
      ]
     },
     "metadata": {},
     "output_type": "display_data"
    }
   ],
   "source": [
    "l, = df.viz.histogram(\"AIR_TIME\", limits=[0, 500], lw=3, shape=64, figsize=(8, 5))\n",
    "l.axes.set_xlabel(\"Air time (min)\");"
   ]
  }
 ],
 "metadata": {
  "kernelspec": {
   "display_name": "Python 3 (mamba)",
   "language": "python",
   "name": "orchest-kernel-0e28811f-ccc1-4805-b686-5b7da79e52c0"
  },
  "language_info": {
   "codemirror_mode": {
    "name": "ipython",
    "version": 3
   },
   "file_extension": ".py",
   "mimetype": "text/x-python",
   "name": "python",
   "nbconvert_exporter": "python",
   "pygments_lexer": "ipython3",
   "version": "3.9.10"
  }
 },
 "nbformat": 4,
 "nbformat_minor": 5
}
