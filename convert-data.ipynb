{
 "cells": [
  {
   "cell_type": "code",
   "execution_count": 1,
   "id": "288f17c6-cd8a-4ebc-b737-9b3cd68902ba",
   "metadata": {
    "execution": {
     "iopub.execute_input": "2022-04-29T15:23:30.810259Z",
     "iopub.status.busy": "2022-04-29T15:23:30.809843Z",
     "iopub.status.idle": "2022-04-29T15:23:31.073392Z",
     "shell.execute_reply": "2022-04-29T15:23:31.072600Z"
    },
    "tags": []
   },
   "outputs": [],
   "source": [
    "import os\n",
    "\n",
    "import pyarrow as pa\n",
    "from pyarrow.csv import open_csv\n",
    "import pyarrow.parquet as pq"
   ]
  },
  {
   "cell_type": "code",
   "execution_count": 2,
   "id": "c2077dfc-3ffe-4e33-9d0d-4806ffa0365c",
   "metadata": {
    "execution": {
     "iopub.execute_input": "2022-04-29T15:23:31.084504Z",
     "iopub.status.busy": "2022-04-29T15:23:31.084066Z",
     "iopub.status.idle": "2022-04-29T15:23:31.808288Z",
     "shell.execute_reply": "2022-04-29T15:23:31.807504Z"
    },
    "tags": []
   },
   "outputs": [
    {
     "name": "stdout",
     "output_type": "stream",
     "text": [
      "2009.csv      2011.csv\t    2013.csv\t  2015.csv\t2017.csv\n",
      "2009.parquet  2011.parquet  2013.parquet  2015.parquet\t2017.parquet\n",
      "2010.csv      2012.csv\t    2014.csv\t  2016.csv\t2018.csv\n",
      "2010.parquet  2012.parquet  2014.parquet  2016.parquet\t2018.parquet\n"
     ]
    }
   ],
   "source": [
    "!ls /data/airline-delays/"
   ]
  },
  {
   "cell_type": "code",
   "execution_count": 3,
   "id": "20a51b58-b478-45f4-ad20-6db8a5e3d272",
   "metadata": {
    "execution": {
     "iopub.execute_input": "2022-04-29T15:23:31.819475Z",
     "iopub.status.busy": "2022-04-29T15:23:31.818865Z",
     "iopub.status.idle": "2022-04-29T15:23:31.838695Z",
     "shell.execute_reply": "2022-04-29T15:23:31.838014Z"
    }
   },
   "outputs": [
    {
     "data": {
      "text/plain": [
       "['/data/airline-delays/2009.csv',\n",
       " '/data/airline-delays/2010.csv',\n",
       " '/data/airline-delays/2011.csv',\n",
       " '/data/airline-delays/2012.csv',\n",
       " '/data/airline-delays/2013.csv',\n",
       " '/data/airline-delays/2014.csv',\n",
       " '/data/airline-delays/2015.csv',\n",
       " '/data/airline-delays/2016.csv',\n",
       " '/data/airline-delays/2017.csv',\n",
       " '/data/airline-delays/2018.csv']"
      ]
     },
     "execution_count": 3,
     "metadata": {},
     "output_type": "execute_result"
    }
   ],
   "source": [
    "csv_files = !ls /data/airline-delays/*.csv\n",
    "csv_files"
   ]
  },
  {
   "cell_type": "code",
   "execution_count": 4,
   "id": "d48a4627-8adc-4b97-8dd8-da634af655fe",
   "metadata": {
    "execution": {
     "iopub.execute_input": "2022-04-29T15:23:31.858492Z",
     "iopub.status.busy": "2022-04-29T15:23:31.858248Z",
     "iopub.status.idle": "2022-04-29T15:23:32.062060Z",
     "shell.execute_reply": "2022-04-29T15:23:32.061357Z"
    },
    "tags": []
   },
   "outputs": [
    {
     "name": "stdout",
     "output_type": "stream",
     "text": [
      "Reading /data/airline-delays/2009.csv...\n",
      "Reading /data/airline-delays/2010.csv...\n",
      "Reading /data/airline-delays/2011.csv...\n",
      "Reading /data/airline-delays/2012.csv...\n",
      "Reading /data/airline-delays/2013.csv...\n",
      "Reading /data/airline-delays/2014.csv...\n",
      "Reading /data/airline-delays/2015.csv...\n",
      "Reading /data/airline-delays/2016.csv...\n",
      "Reading /data/airline-delays/2017.csv...\n",
      "Reading /data/airline-delays/2018.csv...\n"
     ]
    }
   ],
   "source": [
    "for filename in csv_files:\n",
    "    print(f\"Reading {filename}...\")\n",
    "    mmap = pa.memory_map(filename)\n",
    "\n",
    "    reader = open_csv(mmap)\n",
    "\n",
    "    destination_file = os.path.splitext(filename)[0] + \".parquet\"\n",
    "    if os.path.isfile(destination_file):\n",
    "        continue\n",
    "\n",
    "    with pq.ParquetWriter(destination_file, reader.schema) as writer:\n",
    "        while True:\n",
    "            try:\n",
    "                batch = reader.read_next_batch()\n",
    "                writer.write_batch(batch)\n",
    "            except StopIteration:\n",
    "                break"
   ]
  }
 ],
 "metadata": {
  "kernelspec": {
   "display_name": "Python 3",
   "language": "python",
   "name": "orchest-kernel-525b15c1-5828-4cec-86ca-b5a831af279a"
  },
  "language_info": {
   "codemirror_mode": {
    "name": "ipython",
    "version": 3
   },
   "file_extension": ".py",
   "mimetype": "text/x-python",
   "name": "python",
   "nbconvert_exporter": "python",
   "pygments_lexer": "ipython3",
   "version": "3.9.10"
  }
 },
 "nbformat": 4,
 "nbformat_minor": 5
}
